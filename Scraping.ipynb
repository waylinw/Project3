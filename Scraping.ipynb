{
 "cells": [
  {
   "cell_type": "code",
   "execution_count": 108,
   "metadata": {
    "collapsed": false
   },
   "outputs": [],
   "source": [
    "from bs4 import BeautifulSoup\n",
    "import urllib.request\n",
    "import pandas as pd"
   ]
  },
  {
   "cell_type": "code",
   "execution_count": 19,
   "metadata": {
    "collapsed": false
   },
   "outputs": [],
   "source": [
    "html_doc = urllib.request.urlopen(\"http://www.slocountyhomes.com/newlistex.php\").read()"
   ]
  },
  {
   "cell_type": "code",
   "execution_count": 20,
   "metadata": {
    "collapsed": false
   },
   "outputs": [],
   "source": [
    "soup = BeautifulSoup(html_doc, 'html.parser')"
   ]
  },
  {
   "cell_type": "code",
   "execution_count": 42,
   "metadata": {
    "collapsed": false
   },
   "outputs": [],
   "source": []
  },
  {
   "cell_type": "code",
   "execution_count": 69,
   "metadata": {
    "collapsed": false
   },
   "outputs": [
    {
     "data": {
      "text/plain": [
       "8"
      ]
     },
     "execution_count": 69,
     "metadata": {},
     "output_type": "execute_result"
    }
   ],
   "source": [
    "len(rows[2].find_all(\"td\"))"
   ]
  },
  {
   "cell_type": "code",
   "execution_count": 76,
   "metadata": {
    "collapsed": true
   },
   "outputs": [],
   "source": [
    "names = [\n",
    "    \"MLS#\",\n",
    "    \"Street\",\n",
    "    \"City\",\n",
    "    \"List Price\",\n",
    "    \"# of Bedrooms\",\n",
    "    \"# of Bathrooms\",\n",
    "    \"Sq Footage\"\n",
    "]"
   ]
  },
  {
   "cell_type": "code",
   "execution_count": null,
   "metadata": {
    "collapsed": true
   },
   "outputs": [],
   "source": []
  },
  {
   "cell_type": "code",
   "execution_count": 113,
   "metadata": {
    "collapsed": false
   },
   "outputs": [],
   "source": [
    "def extract_listings(soup):\n",
    "    rows = soup.find_all(\"tr\")\n",
    "    \n",
    "    new_listings = []\n",
    "\n",
    "    for row in rows[1:]:\n",
    "        items = row.find_all(\"td\")\n",
    "        if len(items) != 8:\n",
    "            continue\n",
    "\n",
    "        row_data = []\n",
    "\n",
    "        for idx, item in enumerate(items):\n",
    "            if idx == 7:\n",
    "                continue\n",
    "\n",
    "            if idx == 0:\n",
    "                row_data.append(item.contents[0].contents[0].strip())\n",
    "            else:\n",
    "                row_data.append(item.contents[0].strip().strip(\"$\"))\n",
    "\n",
    "        new_listings.append(row_data)\n",
    "    \n",
    "    return pd.DataFrame(columns=names, data=new_listings)"
   ]
  },
  {
   "cell_type": "code",
   "execution_count": 114,
   "metadata": {
    "collapsed": false
   },
   "outputs": [],
   "source": [
    "new_listings = extract_listings(soup)"
   ]
  },
  {
   "cell_type": "code",
   "execution_count": 116,
   "metadata": {
    "collapsed": false
   },
   "outputs": [
    {
     "data": {
      "text/html": [
       "<div>\n",
       "<table border=\"1\" class=\"dataframe\">\n",
       "  <thead>\n",
       "    <tr style=\"text-align: right;\">\n",
       "      <th></th>\n",
       "      <th>MLS#</th>\n",
       "      <th>Street</th>\n",
       "      <th>City</th>\n",
       "      <th>List Price</th>\n",
       "      <th># of Bedrooms</th>\n",
       "      <th># of Bathrooms</th>\n",
       "      <th>Sq Footage</th>\n",
       "    </tr>\n",
       "  </thead>\n",
       "  <tbody>\n",
       "    <tr>\n",
       "      <th>0</th>\n",
       "      <td>1072933</td>\n",
       "      <td>306 Hondonada</td>\n",
       "      <td>Arroyo Grande</td>\n",
       "      <td>519,000</td>\n",
       "      <td>2</td>\n",
       "      <td>2</td>\n",
       "      <td>1746</td>\n",
       "    </tr>\n",
       "    <tr>\n",
       "      <th>1</th>\n",
       "      <td>1072919</td>\n",
       "      <td>327 Corona Del Terra</td>\n",
       "      <td>Arroyo Grande</td>\n",
       "      <td>560,000</td>\n",
       "      <td>3</td>\n",
       "      <td>2</td>\n",
       "      <td>1608</td>\n",
       "    </tr>\n",
       "    <tr>\n",
       "      <th>2</th>\n",
       "      <td>1072958</td>\n",
       "      <td>7777 Del Rio</td>\n",
       "      <td>Atascadero</td>\n",
       "      <td>555,000</td>\n",
       "      <td>3</td>\n",
       "      <td>3</td>\n",
       "      <td>1902</td>\n",
       "    </tr>\n",
       "    <tr>\n",
       "      <th>3</th>\n",
       "      <td>1072528</td>\n",
       "      <td>6050 Brighton</td>\n",
       "      <td>Cambria</td>\n",
       "      <td>1,390,000</td>\n",
       "      <td>6</td>\n",
       "      <td>6</td>\n",
       "      <td>3120</td>\n",
       "    </tr>\n",
       "    <tr>\n",
       "      <th>4</th>\n",
       "      <td>1072953</td>\n",
       "      <td>613 Maple</td>\n",
       "      <td></td>\n",
       "      <td>215,000</td>\n",
       "      <td>3</td>\n",
       "      <td>2</td>\n",
       "      <td>1282</td>\n",
       "    </tr>\n",
       "    <tr>\n",
       "      <th>5</th>\n",
       "      <td>1072944</td>\n",
       "      <td>1213 Cypress</td>\n",
       "      <td>Lompoc</td>\n",
       "      <td>165,000</td>\n",
       "      <td>2</td>\n",
       "      <td>2</td>\n",
       "      <td>972</td>\n",
       "    </tr>\n",
       "    <tr>\n",
       "      <th>6</th>\n",
       "      <td>1072932</td>\n",
       "      <td>1854 7th</td>\n",
       "      <td>Los Osos</td>\n",
       "      <td>499,000</td>\n",
       "      <td>3</td>\n",
       "      <td>2</td>\n",
       "      <td>1080</td>\n",
       "    </tr>\n",
       "    <tr>\n",
       "      <th>7</th>\n",
       "      <td>1072938</td>\n",
       "      <td>715 Crystal</td>\n",
       "      <td>Nipomo</td>\n",
       "      <td>549,900</td>\n",
       "      <td>4</td>\n",
       "      <td>2</td>\n",
       "      <td>1700</td>\n",
       "    </tr>\n",
       "    <tr>\n",
       "      <th>8</th>\n",
       "      <td>1072934</td>\n",
       "      <td>240 Cheyenne</td>\n",
       "      <td>Paso Robles</td>\n",
       "      <td>489,900</td>\n",
       "      <td>3</td>\n",
       "      <td>2</td>\n",
       "      <td>2263</td>\n",
       "    </tr>\n",
       "    <tr>\n",
       "      <th>9</th>\n",
       "      <td>1072905</td>\n",
       "      <td>1565 Kiler Canyon</td>\n",
       "      <td>Paso Robles</td>\n",
       "      <td>3,500,000</td>\n",
       "      <td>9</td>\n",
       "      <td>7</td>\n",
       "      <td>5555</td>\n",
       "    </tr>\n",
       "  </tbody>\n",
       "</table>\n",
       "</div>"
      ],
      "text/plain": [
       "      MLS#                Street           City List Price # of Bedrooms  \\\n",
       "0  1072933         306 Hondonada  Arroyo Grande    519,000             2   \n",
       "1  1072919  327 Corona Del Terra  Arroyo Grande    560,000             3   \n",
       "2  1072958          7777 Del Rio     Atascadero    555,000             3   \n",
       "3  1072528         6050 Brighton        Cambria  1,390,000             6   \n",
       "4  1072953             613 Maple                   215,000             3   \n",
       "5  1072944          1213 Cypress         Lompoc    165,000             2   \n",
       "6  1072932              1854 7th       Los Osos    499,000             3   \n",
       "7  1072938           715 Crystal         Nipomo    549,900             4   \n",
       "8  1072934          240 Cheyenne    Paso Robles    489,900             3   \n",
       "9  1072905     1565 Kiler Canyon    Paso Robles  3,500,000             9   \n",
       "\n",
       "  # of Bathrooms Sq Footage  \n",
       "0              2       1746  \n",
       "1              2       1608  \n",
       "2              3       1902  \n",
       "3              6       3120  \n",
       "4              2       1282  \n",
       "5              2        972  \n",
       "6              2       1080  \n",
       "7              2       1700  \n",
       "8              2       2263  \n",
       "9              7       5555  "
      ]
     },
     "execution_count": 116,
     "metadata": {},
     "output_type": "execute_result"
    }
   ],
   "source": [
    "new_listings.head(10)"
   ]
  },
  {
   "cell_type": "code",
   "execution_count": null,
   "metadata": {
    "collapsed": true
   },
   "outputs": [],
   "source": []
  },
  {
   "cell_type": "code",
   "execution_count": null,
   "metadata": {
    "collapsed": true
   },
   "outputs": [],
   "source": []
  }
 ],
 "metadata": {
  "kernelspec": {
   "display_name": "Python 3",
   "language": "python",
   "name": "python3"
  },
  "language_info": {
   "codemirror_mode": {
    "name": "ipython",
    "version": 3
   },
   "file_extension": ".py",
   "mimetype": "text/x-python",
   "name": "python",
   "nbconvert_exporter": "python",
   "pygments_lexer": "ipython3",
   "version": "3.5.2"
  }
 },
 "nbformat": 4,
 "nbformat_minor": 1
}
