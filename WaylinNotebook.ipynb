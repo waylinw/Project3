{
 "cells": [
  {
   "cell_type": "code",
   "execution_count": 2,
   "metadata": {
    "collapsed": true
   },
   "outputs": [],
   "source": [
    "from pandas.io import sql\n",
    "from sqlalchemy import create_engine, inspect"
   ]
  },
  {
   "cell_type": "code",
   "execution_count": 3,
   "metadata": {
    "collapsed": true
   },
   "outputs": [],
   "source": [
    "import numpy as np\n",
    "import pandas as pd\n",
    "import matplotlib.pyplot as plt\n",
    "%matplotlib inline"
   ]
  },
  {
   "cell_type": "code",
   "execution_count": 4,
   "metadata": {
    "collapsed": false
   },
   "outputs": [],
   "source": [
    "data = pd.read_csv(\"gather_data.csv\")\n",
    "df = data.iloc[:, 1:]\n",
    "df['City'] = [x.strip() for x in df['City']]\n",
    "df['City'] = df['City'].astype('category')"
   ]
  },
  {
   "cell_type": "code",
   "execution_count": 5,
   "metadata": {
    "collapsed": false
   },
   "outputs": [
    {
     "data": {
      "text/plain": [
       "Index(['MLSNumber', 'Street', 'City', 'Price', 'BR', 'Bath', 'Footage',\n",
       "       'PricePerSqft', 'Zipcode'],\n",
       "      dtype='object')"
      ]
     },
     "execution_count": 5,
     "metadata": {},
     "output_type": "execute_result"
    }
   ],
   "source": [
    "df.head()\n",
    "df.columns"
   ]
  },
  {
   "cell_type": "markdown",
   "metadata": {},
   "source": [
    "## Classifiers"
   ]
  },
  {
   "cell_type": "code",
   "execution_count": 6,
   "metadata": {
    "collapsed": true
   },
   "outputs": [],
   "source": [
    "from matplotlib.colors import ListedColormap\n",
    "from sklearn.model_selection import train_test_split\n",
    "from sklearn.preprocessing import StandardScaler\n",
    "from sklearn.datasets import make_moons, make_circles, make_classification\n",
    "from sklearn.neural_network import MLPClassifier\n",
    "from sklearn.neighbors import KNeighborsClassifier\n",
    "from sklearn.svm import SVC\n",
    "from sklearn.gaussian_process import GaussianProcessClassifier\n",
    "from sklearn.gaussian_process.kernels import RBF\n",
    "from sklearn.tree import DecisionTreeClassifier\n",
    "from sklearn.ensemble import RandomForestClassifier, AdaBoostClassifier\n",
    "from sklearn.naive_bayes import GaussianNB\n",
    "from sklearn.discriminant_analysis import QuadraticDiscriminantAnalysis\n",
    "import warnings\n",
    "warnings.filterwarnings('ignore')"
   ]
  },
  {
   "cell_type": "code",
   "execution_count": 7,
   "metadata": {
    "collapsed": false
   },
   "outputs": [],
   "source": [
    "def fitClassifiers(df, x_list, y, classifiers, classifierNames):\n",
    "    overall_max = [list(x_list)[0], classifierNames[0], 0]\n",
    "    for x in x_list:\n",
    "        X = df[list(x)]\n",
    "        X_train, X_test, y_train, y_test = train_test_split(X, y, test_size=.2, random_state=42)\n",
    "        print(list(x))\n",
    "        local_max = [list(x), classifierNames[0], 0]\n",
    "        for name, classifier in zip(classifierNames, classifiers):\n",
    "            classifier.fit(X_train, y_train)\n",
    "            score = classifier.score(X_test, y_test)\n",
    "            if score > local_max[2]:\n",
    "                local_max = [list(x), name, score]\n",
    "        print(local_max)\n",
    "        if local_max[2] > overall_max[2]:\n",
    "            overall_max = local_max\n",
    "    print(\"Best is: \" , overall_max)\n",
    "    \n",
    "    return zip(classifiers, classifierNames)"
   ]
  },
  {
   "cell_type": "markdown",
   "metadata": {},
   "source": [
    "## Predicting City From Other Features"
   ]
  },
  {
   "cell_type": "code",
   "execution_count": 8,
   "metadata": {
    "collapsed": false,
    "scrolled": true
   },
   "outputs": [
    {
     "name": "stdout",
     "output_type": "stream",
     "text": [
      "['Price']\n",
      "[['Price'], 'KNN', 0.22362869198312235]\n",
      "['BR']\n",
      "[['BR'], 'Multi-layer Perception', 0.18565400843881857]\n",
      "['Bath']\n",
      "[['Bath'], 'SVM', 0.18143459915611815]\n",
      "['Footage']\n",
      "[['Footage'], 'SVM', 0.2109704641350211]\n",
      "['PricePerSqft']\n",
      "[['PricePerSqft'], 'KNN', 0.24472573839662448]\n",
      "['Price', 'BR']\n",
      "[['Price', 'BR'], 'KNN', 0.22362869198312235]\n",
      "['Price', 'Bath']\n",
      "[['Price', 'Bath'], 'KNN', 0.21940928270042195]\n",
      "['Price', 'Footage']\n",
      "[['Price', 'Footage'], 'Random Forest', 0.27426160337552741]\n",
      "['Price', 'PricePerSqft']\n",
      "[['Price', 'PricePerSqft'], 'Gaussian', 0.23628691983122363]\n",
      "['BR', 'Bath']\n",
      "[['BR', 'Bath'], 'SVM', 0.189873417721519]\n",
      "['BR', 'Footage']\n",
      "[['BR', 'Footage'], 'SVM', 0.189873417721519]\n",
      "['BR', 'PricePerSqft']\n",
      "[['BR', 'PricePerSqft'], 'KNN', 0.24472573839662448]\n",
      "['Bath', 'Footage']\n",
      "[['Bath', 'Footage'], 'SVM', 0.19831223628691982]\n",
      "['Bath', 'PricePerSqft']\n",
      "[['Bath', 'PricePerSqft'], 'KNN', 0.24472573839662448]\n",
      "['Footage', 'PricePerSqft']\n",
      "[['Footage', 'PricePerSqft'], 'Random Forest', 0.25738396624472576]\n",
      "['Price', 'BR', 'Bath']\n",
      "[['Price', 'BR', 'Bath'], 'KNN', 0.21940928270042195]\n",
      "['Price', 'BR', 'Footage']\n",
      "[['Price', 'BR', 'Footage'], 'Random Forest', 0.29535864978902954]\n",
      "['Price', 'BR', 'PricePerSqft']\n",
      "[['Price', 'BR', 'PricePerSqft'], 'Random Forest', 0.29113924050632911]\n",
      "['Price', 'Bath', 'Footage']\n",
      "[['Price', 'Bath', 'Footage'], 'Random Forest', 0.27848101265822783]\n",
      "['Price', 'Bath', 'PricePerSqft']\n",
      "[['Price', 'Bath', 'PricePerSqft'], 'Gaussian', 0.23628691983122363]\n",
      "['Price', 'Footage', 'PricePerSqft']\n",
      "[['Price', 'Footage', 'PricePerSqft'], 'Random Forest', 0.27848101265822783]\n",
      "['BR', 'Bath', 'Footage']\n",
      "[['BR', 'Bath', 'Footage'], 'SVM', 0.1940928270042194]\n",
      "['BR', 'Bath', 'PricePerSqft']\n",
      "[['BR', 'Bath', 'PricePerSqft'], 'KNN', 0.24472573839662448]\n",
      "['BR', 'Footage', 'PricePerSqft']\n",
      "[['BR', 'Footage', 'PricePerSqft'], 'Random Forest', 0.26582278481012656]\n",
      "['Bath', 'Footage', 'PricePerSqft']\n",
      "[['Bath', 'Footage', 'PricePerSqft'], 'Random Forest', 0.25738396624472576]\n",
      "['Price', 'BR', 'Bath', 'Footage']\n",
      "[['Price', 'BR', 'Bath', 'Footage'], 'Random Forest', 0.28691983122362869]\n",
      "['Price', 'BR', 'Bath', 'PricePerSqft']\n",
      "[['Price', 'BR', 'Bath', 'PricePerSqft'], 'Random Forest', 0.26160337552742619]\n",
      "['Price', 'BR', 'Footage', 'PricePerSqft']\n",
      "[['Price', 'BR', 'Footage', 'PricePerSqft'], 'Random Forest', 0.26582278481012656]\n",
      "['Price', 'Bath', 'Footage', 'PricePerSqft']\n",
      "[['Price', 'Bath', 'Footage', 'PricePerSqft'], 'Random Forest', 0.28270042194092826]\n",
      "['BR', 'Bath', 'Footage', 'PricePerSqft']\n",
      "[['BR', 'Bath', 'Footage', 'PricePerSqft'], 'Random Forest', 0.28691983122362869]\n",
      "['Price', 'BR', 'Bath', 'Footage', 'PricePerSqft']\n",
      "[['Price', 'BR', 'Bath', 'Footage', 'PricePerSqft'], 'Random Forest', 0.26582278481012656]\n",
      "Best is:  [['Price', 'BR', 'Footage'], 'Random Forest', 0.29535864978902954]\n"
     ]
    },
    {
     "data": {
      "text/plain": [
       "<zip at 0x7f9c28b61b48>"
      ]
     },
     "execution_count": 8,
     "metadata": {},
     "output_type": "execute_result"
    }
   ],
   "source": [
    "y = df[['City']]\n",
    "x_vars = ['Price', 'BR', 'Bath', 'Footage', 'PricePerSqft']\n",
    "\n",
    "# get power set\n",
    "import itertools\n",
    "x_list = list(itertools.chain.from_iterable(itertools.combinations(x_vars,n) for n in range(1, len(x_vars)+1)))\n",
    "\n",
    "cityClassifiers = [\n",
    "    KNeighborsClassifier(len(df['City'].unique())),\n",
    "    SVC(gamma=2, C=1),\n",
    "    DecisionTreeClassifier(max_features='log2', max_depth=len(df['City'].unique())),\n",
    "    RandomForestClassifier(n_estimators=len(df['City'].unique()), max_depth=10),\n",
    "    MLPClassifier(alpha=1),\n",
    "    AdaBoostClassifier(),\n",
    "    GaussianNB()\n",
    "]\n",
    "\n",
    "cityClassifiersName = [\n",
    "    \"KNN\",\n",
    "    \"SVM\",\n",
    "    \"Decision Tree\",\n",
    "    \"Random Forest\",\n",
    "    \"Multi-layer Perception\",\n",
    "    \"Ada Boost\",\n",
    "    \"Gaussian\"\n",
    "]\n",
    "\n",
    "fitClassifiers(df, x_list, y, cityClassifiers, cityClassifiersName)"
   ]
  },
  {
   "cell_type": "markdown",
   "metadata": {},
   "source": [
    "## Predicting Price Segment Based on Other Features"
   ]
  },
  {
   "cell_type": "code",
   "execution_count": 9,
   "metadata": {
    "collapsed": true
   },
   "outputs": [],
   "source": [
    "price = df['Price']"
   ]
  },
  {
   "cell_type": "code",
   "execution_count": 10,
   "metadata": {
    "collapsed": false
   },
   "outputs": [
    {
     "data": {
      "text/plain": [
       "count    1.185000e+03\n",
       "mean     6.299467e+05\n",
       "std      5.632996e+05\n",
       "min      2.800000e+04\n",
       "25%      3.500000e+05\n",
       "50%      4.950000e+05\n",
       "75%      7.550000e+05\n",
       "max      8.250000e+06\n",
       "Name: Price, dtype: float64"
      ]
     },
     "execution_count": 10,
     "metadata": {},
     "output_type": "execute_result"
    }
   ],
   "source": [
    "price.describe()"
   ]
  },
  {
   "cell_type": "code",
   "execution_count": 11,
   "metadata": {
    "collapsed": false
   },
   "outputs": [
    {
     "data": {
      "image/png": "[encoded data removed]",
      "text/plain": [
       "<matplotlib.figure.Figure at 0x7f9c2e3b34a8>"
      ]
     },
     "metadata": {},
     "output_type": "display_data"
    }
   ],
   "source": [
    "plt.hist(bins=10, x=df['Price'])\n",
    "plt.show()"
   ]
  },
  {
   "cell_type": "markdown",
   "metadata": {},
   "source": [
    "### Splitting into 5 groups\n",
    "    1. 0 - 199,999\n",
    "    2. 200,000 - 399,999\n",
    "    3. 400,000 - 599,999\n",
    "    4. 600,000 - 799,999\n",
    "    5. 800,000 and Above"
   ]
  },
  {
   "cell_type": "code",
   "execution_count": 12,
   "metadata": {
    "collapsed": false
   },
   "outputs": [],
   "source": [
    "def getPriceCategory(numBins):   \n",
    "    labs = [('%d00K and under' % x) for x in range(1,numBins+1)]\n",
    "    labs.append(\"1 Mil and above\")\n",
    "    binCutOffs = [x for x in range(0,1000001, int(1000000/numBins))]\n",
    "    binCutOffs.append(1000000000)\n",
    "    return pd.cut(df['Price'], \n",
    "           bins = binCutOffs,\n",
    "           labels=labs)"
   ]
  },
  {
   "cell_type": "code",
   "execution_count": 13,
   "metadata": {
    "collapsed": false
   },
   "outputs": [],
   "source": [
    "price_cat = getPriceCategory(10)"
   ]
  },
  {
   "cell_type": "code",
   "execution_count": 14,
   "metadata": {
    "collapsed": false
   },
   "outputs": [],
   "source": [
    "dummies = pd.get_dummies(df['City'], prefix=\"City\")"
   ]
  },
  {
   "cell_type": "code",
   "execution_count": 15,
   "metadata": {
    "collapsed": false
   },
   "outputs": [],
   "source": [
    "cityDf = df[['BR', 'Bath', 'PricePerSqft']]"
   ]
  },
  {
   "cell_type": "code",
   "execution_count": 16,
   "metadata": {
    "collapsed": false
   },
   "outputs": [],
   "source": [
    "cityDf = pd.concat([cityDf, dummies], axis = 1)"
   ]
  },
  {
   "cell_type": "code",
   "execution_count": 17,
   "metadata": {
    "collapsed": false
   },
   "outputs": [
    {
     "name": "stdout",
     "output_type": "stream",
     "text": [
      "['BR', 'Bath', 'PricePerSqft', 'City_Arroyo Grande', 'City_Atascadero', 'City_Avila Beach', 'City_Bakersfield', 'City_Ballard', 'City_Bradley', 'City_Buellton', 'City_Cambria', 'City_Cayucos', 'City_Clovis', 'City_Coalinga', 'City_Creston', 'City_Fresno', 'City_Goleta', 'City_Greenfield', 'City_Grover Beach', 'City_Guadalupe', 'City_Hanford', 'City_King City', 'City_Lompoc', 'City_Los Alamos', 'City_Los Olivos', 'City_Los Osos', 'City_Morro Bay', 'City_Nipomo', 'City_Oceano', 'City_Paso Robles', 'City_Pismo Beach', 'City_Porterville', 'City_Salinas', 'City_San Luis Obispo', 'City_San Miguel', 'City_San Simeon', 'City_Santa Barbara', 'City_Santa Margarita', 'City_Santa Maria', 'City_Santa Ynez', 'City_Shandon', 'City_Solvang', 'City_Tehachapi', 'City_Templeton', 'City_Visalia', 'City_Wasco']\n",
      "[['BR', 'Bath', 'PricePerSqft', 'City_Arroyo Grande', 'City_Atascadero', 'City_Avila Beach', 'City_Bakersfield', 'City_Ballard', 'City_Bradley', 'City_Buellton', 'City_Cambria', 'City_Cayucos', 'City_Clovis', 'City_Coalinga', 'City_Creston', 'City_Fresno', 'City_Goleta', 'City_Greenfield', 'City_Grover Beach', 'City_Guadalupe', 'City_Hanford', 'City_King City', 'City_Lompoc', 'City_Los Alamos', 'City_Los Olivos', 'City_Los Osos', 'City_Morro Bay', 'City_Nipomo', 'City_Oceano', 'City_Paso Robles', 'City_Pismo Beach', 'City_Porterville', 'City_Salinas', 'City_San Luis Obispo', 'City_San Miguel', 'City_San Simeon', 'City_Santa Barbara', 'City_Santa Margarita', 'City_Santa Maria', 'City_Santa Ynez', 'City_Shandon', 'City_Solvang', 'City_Tehachapi', 'City_Templeton', 'City_Visalia', 'City_Wasco'], 'Random Forest', 0.40928270042194093]\n",
      "Best is:  [['BR', 'Bath', 'PricePerSqft', 'City_Arroyo Grande', 'City_Atascadero', 'City_Avila Beach', 'City_Bakersfield', 'City_Ballard', 'City_Bradley', 'City_Buellton', 'City_Cambria', 'City_Cayucos', 'City_Clovis', 'City_Coalinga', 'City_Creston', 'City_Fresno', 'City_Goleta', 'City_Greenfield', 'City_Grover Beach', 'City_Guadalupe', 'City_Hanford', 'City_King City', 'City_Lompoc', 'City_Los Alamos', 'City_Los Olivos', 'City_Los Osos', 'City_Morro Bay', 'City_Nipomo', 'City_Oceano', 'City_Paso Robles', 'City_Pismo Beach', 'City_Porterville', 'City_Salinas', 'City_San Luis Obispo', 'City_San Miguel', 'City_San Simeon', 'City_Santa Barbara', 'City_Santa Margarita', 'City_Santa Maria', 'City_Santa Ynez', 'City_Shandon', 'City_Solvang', 'City_Tehachapi', 'City_Templeton', 'City_Visalia', 'City_Wasco'], 'Random Forest', 0.40928270042194093]\n"
     ]
    },
    {
     "data": {
      "text/plain": [
       "<zip at 0x7f9c28a5d648>"
      ]
     },
     "execution_count": 17,
     "metadata": {},
     "output_type": "execute_result"
    }
   ],
   "source": [
    "y = price_cat\n",
    "#x_vars = ['BR', 'Bath', 'PricePerSqft']\n",
    "x_list = [list(cityDf.columns)]\n",
    "import itertools\n",
    "#x_list = list(itertools.chain.from_iterable(itertools.combinations(x_vars,n) for n in range(1, len(x_vars)+1)))\n",
    "\n",
    "cityClassifiers = [\n",
    "    KNeighborsClassifier(len(df['City'].unique())),\n",
    "    SVC(gamma=2, C=1),\n",
    "    DecisionTreeClassifier(max_features='log2', max_depth=10),\n",
    "    RandomForestClassifier(n_estimators=10, max_depth=10),\n",
    "    MLPClassifier(alpha=1),\n",
    "    AdaBoostClassifier(),\n",
    "    GaussianNB()\n",
    "]\n",
    "\n",
    "cityClassifiersName = [\n",
    "    \"KNN\",\n",
    "    \"SVM\",\n",
    "    \"Decision Tree\",\n",
    "    \"Random Forest\",\n",
    "    \"Multi-layer Perception\",\n",
    "    \"Ada Boost\",\n",
    "    \"Gaussian\"\n",
    "]\n",
    "\n",
    "fitClassifiers(cityDf, x_list, y, cityClassifiers, cityClassifiersName)"
   ]
  },
  {
   "cell_type": "markdown",
   "metadata": {},
   "source": [
    "## Predict Zipcode"
   ]
  },
  {
   "cell_type": "code",
   "execution_count": 18,
   "metadata": {
    "collapsed": false,
    "scrolled": true
   },
   "outputs": [
    {
     "name": "stdout",
     "output_type": "stream",
     "text": [
      "['BR']\n",
      "[['BR'], 'Multi-layer Perception', 0.11392405063291139]\n",
      "['Bath']\n",
      "[['Bath'], 'KNN', 0.13080168776371309]\n",
      "['Footage']\n",
      "[['Footage'], 'SVM', 0.14767932489451477]\n",
      "['Price']\n",
      "[['Price'], 'KNN', 0.13502109704641349]\n",
      "['PricePerSqft']\n",
      "[['PricePerSqft'], 'KNN', 0.16455696202531644]\n",
      "['BR', 'Bath']\n",
      "[['BR', 'Bath'], 'Decision Tree', 0.14767932489451477]\n",
      "['BR', 'Footage']\n",
      "[['BR', 'Footage'], 'SVM', 0.14345991561181434]\n",
      "['BR', 'Price']\n",
      "[['BR', 'Price'], 'Random Forest', 0.15611814345991562]\n",
      "['BR', 'PricePerSqft']\n",
      "[['BR', 'PricePerSqft'], 'KNN', 0.16455696202531644]\n",
      "['Bath', 'Footage']\n",
      "[['Bath', 'Footage'], 'SVM', 0.14345991561181434]\n",
      "['Bath', 'Price']\n",
      "[['Bath', 'Price'], 'KNN', 0.13924050632911392]\n",
      "['Bath', 'PricePerSqft']\n",
      "[['Bath', 'PricePerSqft'], 'KNN', 0.16455696202531644]\n",
      "['Footage', 'Price']\n",
      "[['Footage', 'Price'], 'Random Forest', 0.189873417721519]\n",
      "['Footage', 'PricePerSqft']\n",
      "[['Footage', 'PricePerSqft'], 'Decision Tree', 0.14767932489451477]\n",
      "['Price', 'PricePerSqft']\n",
      "[['Price', 'PricePerSqft'], 'Gaussian', 0.17721518987341772]\n",
      "['BR', 'Bath', 'Footage']\n",
      "[['BR', 'Bath', 'Footage'], 'Random Forest', 0.14767932489451477]\n",
      "['BR', 'Bath', 'Price']\n",
      "[['BR', 'Bath', 'Price'], 'Random Forest', 0.15611814345991562]\n",
      "['BR', 'Bath', 'PricePerSqft']\n",
      "[['BR', 'Bath', 'PricePerSqft'], 'Decision Tree', 0.17721518987341772]\n",
      "['BR', 'Footage', 'Price']\n",
      "[['BR', 'Footage', 'Price'], 'Random Forest', 0.1940928270042194]\n",
      "['BR', 'Footage', 'PricePerSqft']\n",
      "[['BR', 'Footage', 'PricePerSqft'], 'Random Forest', 0.22784810126582278]\n",
      "['BR', 'Price', 'PricePerSqft']\n",
      "[['BR', 'Price', 'PricePerSqft'], 'Random Forest', 0.20675105485232068]\n",
      "['Bath', 'Footage', 'Price']\n",
      "[['Bath', 'Footage', 'Price'], 'Decision Tree', 0.16455696202531644]\n",
      "['Bath', 'Footage', 'PricePerSqft']\n",
      "[['Bath', 'Footage', 'PricePerSqft'], 'Random Forest', 0.1940928270042194]\n",
      "['Bath', 'Price', 'PricePerSqft']\n",
      "[['Bath', 'Price', 'PricePerSqft'], 'Gaussian', 0.17721518987341772]\n",
      "['Footage', 'Price', 'PricePerSqft']\n",
      "[['Footage', 'Price', 'PricePerSqft'], 'Random Forest', 0.189873417721519]\n",
      "['BR', 'Bath', 'Footage', 'Price']\n",
      "[['BR', 'Bath', 'Footage', 'Price'], 'Random Forest', 0.19831223628691982]\n",
      "['BR', 'Bath', 'Footage', 'PricePerSqft']\n",
      "[['BR', 'Bath', 'Footage', 'PricePerSqft'], 'Random Forest', 0.20675105485232068]\n",
      "['BR', 'Bath', 'Price', 'PricePerSqft']\n",
      "[['BR', 'Bath', 'Price', 'PricePerSqft'], 'Random Forest', 0.18565400843881857]\n",
      "['BR', 'Footage', 'Price', 'PricePerSqft']\n",
      "[['BR', 'Footage', 'Price', 'PricePerSqft'], 'Random Forest', 0.2109704641350211]\n",
      "['Bath', 'Footage', 'Price', 'PricePerSqft']\n",
      "[['Bath', 'Footage', 'Price', 'PricePerSqft'], 'Random Forest', 0.189873417721519]\n",
      "['BR', 'Bath', 'Footage', 'Price', 'PricePerSqft']\n",
      "[['BR', 'Bath', 'Footage', 'Price', 'PricePerSqft'], 'Random Forest', 0.20253164556962025]\n",
      "Best is:  [['BR', 'Footage', 'PricePerSqft'], 'Random Forest', 0.22784810126582278]\n"
     ]
    }
   ],
   "source": [
    "y = df[['Zipcode']]\n",
    "x_vars = ['BR', 'Bath', 'Footage', 'Price', 'PricePerSqft']\n",
    "\n",
    "import itertools\n",
    "x_list = list(itertools.chain.from_iterable(itertools.combinations(x_vars,n) for n in range(1, len(x_vars)+1)))\n",
    "\n",
    "cityClassifiers = [\n",
    "    KNeighborsClassifier(len(df['Zipcode'].unique())),\n",
    "    SVC(gamma=2, C=1),\n",
    "    DecisionTreeClassifier(max_features='log2', max_depth=10),\n",
    "    RandomForestClassifier(n_estimators=10, max_depth=10),\n",
    "    MLPClassifier(alpha=1),\n",
    "    AdaBoostClassifier(),\n",
    "    GaussianNB()\n",
    "]\n",
    "\n",
    "cityClassifiersName = [\n",
    "    \"KNN\",\n",
    "    \"SVM\",\n",
    "    \"Decision Tree\",\n",
    "    \"Random Forest\",\n",
    "    \"Multi-layer Perception\",\n",
    "    \"Ada Boost\",\n",
    "    \"Gaussian\"\n",
    "]\n",
    "\n",
    "fitClasses = fitClassifiers(df, x_list, y, cityClassifiers, cityClassifiersName)"
   ]
  },
  {
   "cell_type": "code",
   "execution_count": 19,
   "metadata": {
    "collapsed": false
   },
   "outputs": [],
   "source": [
    "fitClasses = list(fitClasses)"
   ]
  },
  {
   "cell_type": "code",
   "execution_count": 20,
   "metadata": {
    "collapsed": true
   },
   "outputs": [],
   "source": [
    "# have a list of classifiers we will use\n",
    "# write model functions that will return score of model and the error, and computation time\n",
    "# Logistic Regression - multiclass\n",
    "# kNN\n",
    "# AdaBoostClassifier\n",
    "# Random Forest\n",
    "# DecisionTreeClassifier\n",
    "# SVM\n",
    "# ensemble\n",
    "    # Voting\n",
    "    # Bagging\n",
    "    # Boosting"
   ]
  },
  {
   "cell_type": "markdown",
   "metadata": {
    "collapsed": true
   },
   "source": [
    "# Voting"
   ]
  },
  {
   "cell_type": "code",
   "execution_count": 21,
   "metadata": {
    "collapsed": true
   },
   "outputs": [],
   "source": [
    "from sklearn.ensemble import VotingClassifier"
   ]
  },
  {
   "cell_type": "code",
   "execution_count": null,
   "metadata": {
    "collapsed": true
   },
   "outputs": [],
   "source": [
    "y = df[['Zipcode']]\n",
    "x_vars = ['BR', 'Bath', 'Footage', 'Price', 'PricePerSqft']\n",
    "\n",
    "import itertools\n",
    "x_list = list(itertools.chain.from_iterable(itertools.combinations(x_vars,n) for n in range(1, len(x_vars)+1)))\n",
    "\n",
    "\n",
    "cityClassifiers = [\n",
    "    KNeighborsClassifier(len(df['Zipcode'].unique())),\n",
    "    SVC(gamma=2, C=1),\n",
    "    DecisionTreeClassifier(max_features='log2', max_depth=10),\n",
    "    RandomForestClassifier(n_estimators=10, max_depth=10),\n",
    "    MLPClassifier(alpha=1),\n",
    "    AdaBoostClassifier(),\n",
    "    GaussianNB()\n",
    "]\n",
    "\n",
    "cityClassifiersName = [\n",
    "    \"KNN\",\n",
    "    \"SVM\",\n",
    "    \"Decision Tree\",\n",
    "    \"Random Forest\",\n",
    "    \"Multi-layer Perception\",\n",
    "    \"Ada Boost\",\n",
    "    \"Gaussian\"\n",
    "]\n",
    "\n",
    "voter = VotingClassifier(list(zip(cityClassifiersName, cityClassifiers)), voting=\"hard\")"
   ]
  },
  {
   "cell_type": "code",
   "execution_count": null,
   "metadata": {
    "collapsed": false
   },
   "outputs": [],
   "source": []
  },
  {
   "cell_type": "code",
   "execution_count": null,
   "metadata": {
    "collapsed": false
   },
   "outputs": [
    {
     "name": "stdout",
     "output_type": "stream",
     "text": [
      "['BR']\n",
      "[['BR'], 'voter', 0.10548523206751055]\n",
      "['Bath']\n",
      "[['Bath'], 'voter', 0.11814345991561181]\n",
      "['Footage']\n",
      "[['Footage'], 'voter', 0.080168776371308023]\n",
      "['Price']\n",
      "[['Price'], 'voter', 0.11814345991561181]\n",
      "['PricePerSqft']\n",
      "[['PricePerSqft'], 'voter', 0.16455696202531644]\n",
      "['BR', 'Bath']\n",
      "[['BR', 'Bath'], 'voter', 0.12658227848101267]\n",
      "['BR', 'Footage']\n",
      "[['BR', 'Footage'], 'voter', 0.10126582278481013]\n",
      "['BR', 'Price']\n",
      "[['BR', 'Price'], 'voter', 0.16033755274261605]\n",
      "['BR', 'PricePerSqft']\n",
      "[['BR', 'PricePerSqft'], 'voter', 0.1729957805907173]\n",
      "['Bath', 'Footage']\n",
      "[['Bath', 'Footage'], 'voter', 0.11392405063291139]\n",
      "['Bath', 'Price']\n",
      "[['Bath', 'Price'], 'voter', 0.12236286919831224]\n",
      "['Bath', 'PricePerSqft']\n",
      "[['Bath', 'PricePerSqft'], 'voter', 0.13080168776371309]\n",
      "['Footage', 'Price']\n"
     ]
    }
   ],
   "source": [
    "fitClassifiers(df, x_list, y, [voter], [\"voter\"])"
   ]
  },
  {
   "cell_type": "markdown",
   "metadata": {},
   "source": [
    "From this we see that voting does not outperform the individual best performance of the classifiers."
   ]
  },
  {
   "cell_type": "code",
   "execution_count": null,
   "metadata": {
    "collapsed": true
   },
   "outputs": [],
   "source": []
  },
  {
   "cell_type": "code",
   "execution_count": null,
   "metadata": {
    "collapsed": true
   },
   "outputs": [],
   "source": []
  },
  {
   "cell_type": "code",
   "execution_count": null,
   "metadata": {
    "collapsed": true
   },
   "outputs": [],
   "source": []
  },
  {
   "cell_type": "code",
   "execution_count": null,
   "metadata": {
    "collapsed": true
   },
   "outputs": [],
   "source": []
  }
 ],
 "metadata": {
  "kernelspec": {
   "display_name": "Python 3",
   "language": "python",
   "name": "python3"
  },
  "language_info": {
   "codemirror_mode": {
    "name": "ipython",
    "version": 3
   },
   "file_extension": ".py",
   "mimetype": "text/x-python",
   "name": "python",
   "nbconvert_exporter": "python",
   "pygments_lexer": "ipython3",
   "version": "3.5.2"
  }
 },
 "nbformat": 4,
 "nbformat_minor": 1
}
