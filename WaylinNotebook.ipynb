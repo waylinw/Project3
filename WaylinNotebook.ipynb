{
 "cells": [
  {
   "cell_type": "code",
   "execution_count": 1,
   "metadata": {
    "collapsed": true
   },
   "outputs": [],
   "source": [
    "from pandas.io import sql\n",
    "from sqlalchemy import create_engine, inspect"
   ]
  },
  {
   "cell_type": "code",
   "execution_count": 2,
   "metadata": {
    "collapsed": true
   },
   "outputs": [],
   "source": [
    "import numpy as np\n",
    "import pandas as pd\n",
    "import matplotlib.pyplot as plt\n",
    "%matplotlib inline"
   ]
  },
  {
   "cell_type": "code",
   "execution_count": 3,
   "metadata": {
    "collapsed": false
   },
   "outputs": [],
   "source": [
    "data = pd.read_csv(\"gather_data.csv\")\n",
    "df = data.iloc[:, 1:]\n",
    "df['City'] = [x.strip() for x in df['City']]\n",
    "df['City'] = df['City'].astype('category')"
   ]
  },
  {
   "cell_type": "code",
   "execution_count": 4,
   "metadata": {
    "collapsed": false
   },
   "outputs": [
    {
     "data": {
      "text/plain": [
       "Index(['MLSNumber', 'Street', 'City', 'Price', 'BR', 'Bath', 'Footage',\n",
       "       'PricePerSqft', 'Zipcode'],\n",
       "      dtype='object')"
      ]
     },
     "execution_count": 4,
     "metadata": {},
     "output_type": "execute_result"
    }
   ],
   "source": [
    "df.head()\n",
    "df.columns"
   ]
  },
  {
   "cell_type": "markdown",
   "metadata": {},
   "source": [
    "## Classifiers"
   ]
  },
  {
   "cell_type": "code",
   "execution_count": 5,
   "metadata": {
    "collapsed": true
   },
   "outputs": [],
   "source": [
    "from matplotlib.colors import ListedColormap\n",
    "from sklearn.model_selection import train_test_split\n",
    "from sklearn.preprocessing import StandardScaler\n",
    "from sklearn.datasets import make_moons, make_circles, make_classification\n",
    "from sklearn.neural_network import MLPClassifier\n",
    "from sklearn.neighbors import KNeighborsClassifier\n",
    "from sklearn.svm import SVC\n",
    "from sklearn.gaussian_process import GaussianProcessClassifier\n",
    "from sklearn.gaussian_process.kernels import RBF\n",
    "from sklearn.tree import DecisionTreeClassifier\n",
    "from sklearn.ensemble import RandomForestClassifier, AdaBoostClassifier\n",
    "from sklearn.naive_bayes import GaussianNB\n",
    "from sklearn.discriminant_analysis import QuadraticDiscriminantAnalysis\n",
    "import warnings\n",
    "warnings.filterwarnings('ignore')"
   ]
  },
  {
   "cell_type": "code",
   "execution_count": null,
   "metadata": {
    "collapsed": false
   },
   "outputs": [],
   "source": [
    "def fitClassifiers(df, x_list, y, classifiers, classifierNames):\n",
    "    overall_max = [list(x_list)[0], classifierNames[0], 0]\n",
    "    for x in x_list:\n",
    "        X = df[list(x)]\n",
    "        X_train, X_test, y_train, y_test = train_test_split(X, y, test_size=.2, random_state=42)\n",
    "        print(list(x))\n",
    "        local_max = [list(x), classifierNames[0], 0]\n",
    "        for name, classifier in zip(classifierNames, classifiers):\n",
    "            classifier.fit(X_train, y_train)\n",
    "            score = classifier.score(X_test, y_test)\n",
    "            if score > local_max[2]:\n",
    "                local_max = [list(x), name, score]\n",
    "        print(local_max)\n",
    "        if local_max[2] > overall_max[2]:\n",
    "            overall_max = local_max\n",
    "    print(\"Best is: \" , overall_max)\n",
    "    "
   ]
  },
  {
   "cell_type": "markdown",
   "metadata": {},
   "source": [
    "## Predicting City From Other Features"
   ]
  },
  {
   "cell_type": "code",
   "execution_count": null,
   "metadata": {
    "collapsed": false,
    "scrolled": true
   },
   "outputs": [
    {
     "name": "stdout",
     "output_type": "stream",
     "text": [
      "['Price']\n",
      "[['Price'], 'KNN', 0.22362869198312235]\n",
      "['BR']\n",
      "[['BR'], 'Multi-layer Perception', 0.18565400843881857]\n",
      "['Bath']\n",
      "[['Bath'], 'SVM', 0.18143459915611815]\n",
      "['Footage']\n",
      "[['Footage'], 'SVM', 0.2109704641350211]\n",
      "['PricePerSqft']\n",
      "[['PricePerSqft'], 'KNN', 0.24472573839662448]\n",
      "['Price', 'BR']\n",
      "[['Price', 'BR'], 'Random Forest', 0.24050632911392406]\n",
      "['Price', 'Bath']\n",
      "[['Price', 'Bath'], 'KNN', 0.21940928270042195]\n",
      "['Price', 'Footage']\n",
      "[['Price', 'Footage'], 'Random Forest', 0.29535864978902954]\n",
      "['Price', 'PricePerSqft']\n",
      "[['Price', 'PricePerSqft'], 'Random Forest', 0.23628691983122363]\n",
      "['BR', 'Bath']\n",
      "[['BR', 'Bath'], 'SVM', 0.189873417721519]\n",
      "['BR', 'Footage']\n",
      "[['BR', 'Footage'], 'SVM', 0.189873417721519]\n",
      "['BR', 'PricePerSqft']\n",
      "[['BR', 'PricePerSqft'], 'KNN', 0.24472573839662448]\n",
      "['Bath', 'Footage']\n",
      "[['Bath', 'Footage'], 'SVM', 0.19831223628691982]\n",
      "['Bath', 'PricePerSqft']\n",
      "[['Bath', 'PricePerSqft'], 'KNN', 0.24472573839662448]\n",
      "['Footage', 'PricePerSqft']\n",
      "[['Footage', 'PricePerSqft'], 'Random Forest', 0.26160337552742619]\n",
      "['Price', 'BR', 'Bath']\n",
      "[['Price', 'BR', 'Bath'], 'KNN', 0.21940928270042195]\n",
      "['Price', 'BR', 'Footage']\n",
      "[['Price', 'BR', 'Footage'], 'Random Forest', 0.30379746835443039]\n",
      "['Price', 'BR', 'PricePerSqft']\n",
      "[['Price', 'BR', 'PricePerSqft'], 'Random Forest', 0.27848101265822783]\n",
      "['Price', 'Bath', 'Footage']\n",
      "[['Price', 'Bath', 'Footage'], 'Random Forest', 0.24472573839662448]\n",
      "['Price', 'Bath', 'PricePerSqft']\n",
      "[['Price', 'Bath', 'PricePerSqft'], 'Random Forest', 0.23628691983122363]\n",
      "['Price', 'Footage', 'PricePerSqft']\n",
      "[['Price', 'Footage', 'PricePerSqft'], 'Random Forest', 0.25316455696202533]\n",
      "['BR', 'Bath', 'Footage']\n",
      "[['BR', 'Bath', 'Footage'], 'SVM', 0.1940928270042194]\n",
      "['BR', 'Bath', 'PricePerSqft']\n",
      "[['BR', 'Bath', 'PricePerSqft'], 'KNN', 0.24472573839662448]\n",
      "['BR', 'Footage', 'PricePerSqft']\n",
      "[['BR', 'Footage', 'PricePerSqft'], 'Random Forest', 0.28691983122362869]\n",
      "['Bath', 'Footage', 'PricePerSqft']\n",
      "[['Bath', 'Footage', 'PricePerSqft'], 'Random Forest', 0.2320675105485232]\n",
      "['Price', 'BR', 'Bath', 'Footage']\n",
      "[['Price', 'BR', 'Bath', 'Footage'], 'Random Forest', 0.28270042194092826]\n",
      "['Price', 'BR', 'Bath', 'PricePerSqft']\n",
      "[['Price', 'BR', 'Bath', 'PricePerSqft'], 'Random Forest', 0.25738396624472576]\n",
      "['Price', 'BR', 'Footage', 'PricePerSqft']\n"
     ]
    }
   ],
   "source": [
    "y = df[['City']]\n",
    "x_vars = ['Price', 'BR', 'Bath', 'Footage', 'PricePerSqft']\n",
    "\n",
    "# get power set\n",
    "import itertools\n",
    "x_list = list(itertools.chain.from_iterable(itertools.combinations(x_vars,n) for n in range(1, len(x_vars)+1)))\n",
    "\n",
    "cityClassifiers = [\n",
    "    KNeighborsClassifier(len(df['City'].unique())),\n",
    "    SVC(gamma=2, C=1),\n",
    "    DecisionTreeClassifier(max_features='log2', max_depth=len(df['City'].unique())),\n",
    "    RandomForestClassifier(n_estimators=len(df['City'].unique()), max_depth=10),\n",
    "    MLPClassifier(alpha=1),\n",
    "    AdaBoostClassifier(),\n",
    "    GaussianNB()\n",
    "]\n",
    "\n",
    "cityClassifiersName = [\n",
    "    \"KNN\",\n",
    "    \"SVM\",\n",
    "    \"Decision Tree\",\n",
    "    \"Random Forest\",\n",
    "    \"Multi-layer Perception\",\n",
    "    \"Ada Boost\",\n",
    "    \"Gaussian\"\n",
    "]\n",
    "\n",
    "fitClassifiers(df, x_list, y, cityClassifiers, cityClassifiersName)"
   ]
  },
  {
   "cell_type": "markdown",
   "metadata": {},
   "source": [
    "## Predicting Price Segment Based on Other Features"
   ]
  },
  {
   "cell_type": "code",
   "execution_count": null,
   "metadata": {
    "collapsed": true
   },
   "outputs": [],
   "source": [
    "price = df['Price']"
   ]
  },
  {
   "cell_type": "code",
   "execution_count": null,
   "metadata": {
    "collapsed": false
   },
   "outputs": [],
   "source": [
    "price.describe()"
   ]
  },
  {
   "cell_type": "code",
   "execution_count": null,
   "metadata": {
    "collapsed": false
   },
   "outputs": [],
   "source": [
    "plt.hist(bins=10, x=df['Price'])\n",
    "plt.show()"
   ]
  },
  {
   "cell_type": "markdown",
   "metadata": {},
   "source": [
    "### Splitting into 5 groups\n",
    "    1. 0 - 199,999\n",
    "    2. 200,000 - 399,999\n",
    "    3. 400,000 - 599,999\n",
    "    4. 600,000 - 799,999\n",
    "    5. 800,000 and Above"
   ]
  },
  {
   "cell_type": "code",
   "execution_count": null,
   "metadata": {
    "collapsed": false
   },
   "outputs": [],
   "source": [
    "def getPriceCategory(numBins):   \n",
    "    labs = [('%d00K and under' % x) for x in range(1,numBins+1)]\n",
    "    labs.append(\"1 Mil and above\")\n",
    "    binCutOffs = [x for x in range(0,1000001, int(1000000/numBins))]\n",
    "    binCutOffs.append(1000000000)\n",
    "    return pd.cut(df['Price'], \n",
    "           bins = binCutOffs,\n",
    "           labels=labs)"
   ]
  },
  {
   "cell_type": "code",
   "execution_count": null,
   "metadata": {
    "collapsed": false
   },
   "outputs": [],
   "source": [
    "price_cat = getPriceCategory(10)"
   ]
  },
  {
   "cell_type": "code",
   "execution_count": null,
   "metadata": {
    "collapsed": false
   },
   "outputs": [],
   "source": [
    "dummies = pd.get_dummies(df['City'], prefix=\"City\")"
   ]
  },
  {
   "cell_type": "code",
   "execution_count": null,
   "metadata": {
    "collapsed": false
   },
   "outputs": [],
   "source": [
    "cityDf = df[['BR', 'Bath', 'PricePerSqft']]"
   ]
  },
  {
   "cell_type": "code",
   "execution_count": null,
   "metadata": {
    "collapsed": false
   },
   "outputs": [],
   "source": [
    "cityDf = pd.concat([cityDf, dummies], axis = 1)"
   ]
  },
  {
   "cell_type": "code",
   "execution_count": null,
   "metadata": {
    "collapsed": false
   },
   "outputs": [],
   "source": [
    "y = price_cat\n",
    "#x_vars = ['BR', 'Bath', 'PricePerSqft']\n",
    "x_list = [list(cityDf.columns)]\n",
    "import itertools\n",
    "#x_list = list(itertools.chain.from_iterable(itertools.combinations(x_vars,n) for n in range(1, len(x_vars)+1)))\n",
    "\n",
    "cityClassifiers = [\n",
    "    KNeighborsClassifier(len(df['City'].unique())),\n",
    "    SVC(gamma=2, C=1),\n",
    "    DecisionTreeClassifier(max_features='log2', max_depth=10),\n",
    "    RandomForestClassifier(n_estimators=10, max_depth=10),\n",
    "    MLPClassifier(alpha=1),\n",
    "    AdaBoostClassifier(),\n",
    "    GaussianNB()\n",
    "]\n",
    "\n",
    "cityClassifiersName = [\n",
    "    \"KNN\",\n",
    "    \"SVM\",\n",
    "    \"Decision Tree\",\n",
    "    \"Random Forest\",\n",
    "    \"Multi-layer Perception\",\n",
    "    \"Ada Boost\",\n",
    "    \"Gaussian\"\n",
    "]\n",
    "\n",
    "fitClassifiers(cityDf, x_list, y, cityClassifiers, cityClassifiersName)"
   ]
  },
  {
   "cell_type": "markdown",
   "metadata": {},
   "source": [
    "## Predict Zipcode"
   ]
  },
  {
   "cell_type": "code",
   "execution_count": null,
   "metadata": {
    "collapsed": false,
    "scrolled": true
   },
   "outputs": [],
   "source": [
    "y = df[['Zipcode']]\n",
    "x_vars = ['BR', 'Bath', 'Footage', 'Price', 'PricePerSqft']\n",
    "\n",
    "import itertools\n",
    "x_list = list(itertools.chain.from_iterable(itertools.combinations(x_vars,n) for n in range(1, len(x_vars)+1)))\n",
    "\n",
    "cityClassifiers = [\n",
    "    KNeighborsClassifier(len(df['Zipcode'].unique())),\n",
    "    SVC(gamma=2, C=1),\n",
    "    DecisionTreeClassifier(max_features='log2', max_depth=10),\n",
    "    RandomForestClassifier(n_estimators=10, max_depth=10),\n",
    "    MLPClassifier(alpha=1),\n",
    "    AdaBoostClassifier(),\n",
    "    GaussianNB()\n",
    "]\n",
    "\n",
    "cityClassifiersName = [\n",
    "    \"KNN\",\n",
    "    \"SVM\",\n",
    "    \"Decision Tree\",\n",
    "    \"Random Forest\",\n",
    "    \"Multi-layer Perception\",\n",
    "    \"Ada Boost\",\n",
    "    \"Gaussian\"\n",
    "]\n",
    "\n",
    "fitClassifiers(df, x_list, y, cityClassifiers, cityClassifiersName)"
   ]
  },
  {
   "cell_type": "code",
   "execution_count": null,
   "metadata": {
    "collapsed": true
   },
   "outputs": [],
   "source": [
    "# have a list of classifiers we will use\n",
    "# write model functions that will return score of model and the error, and computation time\n",
    "# Logistic Regression - multiclass\n",
    "# kNN\n",
    "# AdaBoostClassifier\n",
    "# Random Forest\n",
    "# DecisionTreeClassifier\n",
    "# SVM\n",
    "# ensemble\n",
    "    # Voting\n",
    "    # Bagging\n",
    "    # Boosting"
   ]
  },
  {
   "cell_type": "markdown",
   "metadata": {
    "collapsed": true
   },
   "source": [
    "# Voting"
   ]
  },
  {
   "cell_type": "code",
   "execution_count": null,
   "metadata": {
    "collapsed": true
   },
   "outputs": [],
   "source": [
    "from sklearn.ensemble import VotingClassifier"
   ]
  },
  {
   "cell_type": "code",
   "execution_count": null,
   "metadata": {
    "collapsed": true
   },
   "outputs": [],
   "source": [
    "y = df[['Zipcode']]\n",
    "x_vars = ['BR', 'Bath', 'Footage', 'Price', 'PricePerSqft']\n",
    "\n",
    "import itertools\n",
    "x_list = list(itertools.chain.from_iterable(itertools.combinations(x_vars,n) for n in range(1, len(x_vars)+1)))\n",
    "\n",
    "\n",
    "cityClassifiers = [\n",
    "    KNeighborsClassifier(len(df['Zipcode'].unique())),\n",
    "    SVC(gamma=2, C=1),\n",
    "    DecisionTreeClassifier(max_features='log2', max_depth=10),\n",
    "    RandomForestClassifier(n_estimators=10, max_depth=10),\n",
    "    MLPClassifier(alpha=1),\n",
    "    AdaBoostClassifier(),\n",
    "    GaussianNB()\n",
    "]\n",
    "\n",
    "cityClassifiersName = [\n",
    "    \"KNN\",\n",
    "    \"SVM\",\n",
    "    \"Decision Tree\",\n",
    "    \"Random Forest\",\n",
    "    \"Multi-layer Perception\",\n",
    "    \"Ada Boost\",\n",
    "    \"Gaussian\"\n",
    "]\n",
    "\n",
    "voter = VotingClassifier(list(zip(cityClassifiersName, cityClassifiers)), voting=\"hard\")"
   ]
  },
  {
   "cell_type": "code",
   "execution_count": null,
   "metadata": {
    "collapsed": false
   },
   "outputs": [],
   "source": []
  },
  {
   "cell_type": "code",
   "execution_count": null,
   "metadata": {
    "collapsed": false
   },
   "outputs": [],
   "source": [
    "fitClassifiers(df, x_list, y, [voter], [\"voter\"])"
   ]
  },
  {
   "cell_type": "markdown",
   "metadata": {},
   "source": [
    "From this we see that voting does not outperform the individual best performance of the classifiers."
   ]
  },
  {
   "cell_type": "code",
   "execution_count": null,
   "metadata": {
    "collapsed": true
   },
   "outputs": [],
   "source": []
  },
  {
   "cell_type": "code",
   "execution_count": null,
   "metadata": {
    "collapsed": true
   },
   "outputs": [],
   "source": []
  },
  {
   "cell_type": "code",
   "execution_count": null,
   "metadata": {
    "collapsed": true
   },
   "outputs": [],
   "source": []
  },
  {
   "cell_type": "code",
   "execution_count": null,
   "metadata": {
    "collapsed": true
   },
   "outputs": [],
   "source": []
  }
 ],
 "metadata": {
  "kernelspec": {
   "display_name": "Python 3",
   "language": "python",
   "name": "python3"
  },
  "language_info": {
   "codemirror_mode": {
    "name": "ipython",
    "version": 3
   },
   "file_extension": ".py",
   "mimetype": "text/x-python",
   "name": "python",
   "nbconvert_exporter": "python",
   "pygments_lexer": "ipython3",
   "version": "3.5.2"
  }
 },
 "nbformat": 4,
 "nbformat_minor": 1
}
